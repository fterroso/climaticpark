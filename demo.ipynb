{
 "cells": [
  {
   "cell_type": "markdown",
   "id": "264122b7",
   "metadata": {},
   "source": [
    "# Example of usage of the ClimaticPark simulator\n",
    "\n",
    "## Step by step guide\n",
    "\n",
    "First we need to import the whole library "
   ]
  },
  {
   "cell_type": "code",
   "execution_count": null,
   "id": "1c5ef3cb",
   "metadata": {},
   "outputs": [],
   "source": [
    "import lib.climaticpark as cp"
   ]
  },
  {
   "cell_type": "markdown",
   "id": "27af6946",
   "metadata": {},
   "source": [
    "Them we have to instantiate a ClimaticPark object, the core class of the library that orchestrates the whole simulation."
   ]
  },
  {
   "cell_type": "code",
   "execution_count": null,
   "id": "74bb620c",
   "metadata": {},
   "outputs": [],
   "source": [
    "\n",
    "park = cp.ClimaticPark(file_name_lots='data/parking_lots.geojson',\n",
    "                 file_name_roofs='data/parking_roofs.geojson',\n",
    "                 file_name_coords='data/parking_coordinates.csv',\n",
    "                 file_name_gates='data/gates_coordinates.csv',\n",
    "                 file_name_cabintem='data/historical_cabin_temp.csv') # default parameters\n",
    "park.prepare_simulation()\n"
   ]
  },
  {
   "cell_type": "markdown",
   "id": "3751b3d6",
   "metadata": {},
   "source": [
    "Once the instanced has been loaded, we launch the simulation by means of the method `.launch_simulation`. As parameter, this method recibes the number of days ahead from today that we want to simulate.\n",
    "\n",
    "The `WARN` messages indicate when the coverage rate of the spaces was not caomputed due to sunrise or sunset hours in the target location."
   ]
  },
  {
   "cell_type": "code",
   "execution_count": null,
   "id": "997382dd",
   "metadata": {},
   "outputs": [],
   "source": [
    "park.launch_simulation(4)"
   ]
  },
  {
   "cell_type": "markdown",
   "id": "690baec0",
   "metadata": {},
   "source": [
    "When the module has finished to compute all the simulation parameters we are ready to visualize its results. This way, we can see the evolution of the coverage rates of the Target Parking Lot's spaces by means of the `.show_coverage_rates` method."
   ]
  },
  {
   "cell_type": "code",
   "execution_count": null,
   "id": "a55105ec",
   "metadata": {},
   "outputs": [],
   "source": [
    "m= park.show_coverage_rates()\n",
    "m"
   ]
  },
  {
   "cell_type": "markdown",
   "id": "f3193810",
   "metadata": {},
   "source": [
    "Similarly, we can visualize a map with the shadows projected by the physical roofs installed in the parking lot."
   ]
  },
  {
   "cell_type": "code",
   "execution_count": null,
   "id": "38421f90",
   "metadata": {},
   "outputs": [],
   "source": [
    "m= park.show_roofs_projected_shadows()\n",
    "m\n"
   ]
  },
  {
   "cell_type": "markdown",
   "id": "306ee5fa",
   "metadata": {},
   "source": [
    "With `.show_occupancy` we can see the evolution of how the parking lot's spaces have been occupied according the the computed simulation."
   ]
  },
  {
   "cell_type": "code",
   "execution_count": null,
   "id": "6dd193eb",
   "metadata": {},
   "outputs": [],
   "source": [
    "m= park.show_occupancy()\n",
    "m\n"
   ]
  },
  {
   "cell_type": "markdown",
   "id": "ec7a79e1",
   "metadata": {},
   "source": [
    "We can also visualize the cabin temperatures of the vehicles by means of the `.show_cabin_temps` method."
   ]
  },
  {
   "cell_type": "code",
   "execution_count": null,
   "id": "c557d3fb",
   "metadata": {},
   "outputs": [],
   "source": [
    "m= park.show_cabin_temps()\n",
    "m"
   ]
  },
  {
   "cell_type": "markdown",
   "id": "a924fea1",
   "metadata": {},
   "source": [
    "Finally, we can retrieve from the module a pandas DataFrame comprising all the information about the simulated vehicles comprising they cabin temperatures and fuel consumption features by calling the `.compute_energy_consumption` method."
   ]
  },
  {
   "cell_type": "code",
   "execution_count": null,
   "id": "cc658caa",
   "metadata": {},
   "outputs": [],
   "source": [
    "vehicle_consumption_df = park.compute_energy_consumption()\n",
    "print(vehicle_consumption_df)"
   ]
  },
  {
   "cell_type": "code",
   "execution_count": null,
   "id": "8c1308ac",
   "metadata": {},
   "outputs": [],
   "source": [
    "print(\"That's all folks!\")\n"
   ]
  }
 ],
 "metadata": {
  "kernelspec": {
   "display_name": "climaticpark_env",
   "language": "python",
   "name": "python3"
  },
  "language_info": {
   "codemirror_mode": {
    "name": "ipython",
    "version": 3
   },
   "file_extension": ".py",
   "mimetype": "text/x-python",
   "name": "python",
   "nbconvert_exporter": "python",
   "pygments_lexer": "ipython3",
   "version": "3.10.13"
  }
 },
 "nbformat": 4,
 "nbformat_minor": 5
}
